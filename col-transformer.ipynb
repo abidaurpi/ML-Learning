{
 "cells": [
  {
   "cell_type": "code",
   "execution_count": 1,
   "id": "9dae9070",
   "metadata": {
    "_cell_guid": "b1076dfc-b9ad-4769-8c92-a6c4dae69d19",
    "_uuid": "8f2839f25d086af736a60e9eeb907d3b93b6e0e5",
    "execution": {
     "iopub.execute_input": "2025-08-01T19:57:03.856778Z",
     "iopub.status.busy": "2025-08-01T19:57:03.856462Z",
     "iopub.status.idle": "2025-08-01T19:57:06.008675Z",
     "shell.execute_reply": "2025-08-01T19:57:06.007621Z"
    },
    "papermill": {
     "duration": 2.160248,
     "end_time": "2025-08-01T19:57:06.010376",
     "exception": false,
     "start_time": "2025-08-01T19:57:03.850128",
     "status": "completed"
    },
    "tags": []
   },
   "outputs": [
    {
     "name": "stdout",
     "output_type": "stream",
     "text": [
      "/kaggle/input/covid-dataset/covid_toy.csv\n"
     ]
    }
   ],
   "source": [
    "# This Python 3 environment comes with many helpful analytics libraries installed\n",
    "# It is defined by the kaggle/python Docker image: https://github.com/kaggle/docker-python\n",
    "# For example, here's several helpful packages to load\n",
    "\n",
    "import numpy as np # linear algebra\n",
    "import pandas as pd # data processing, CSV file I/O (e.g. pd.read_csv)\n",
    "\n",
    "# Input data files are available in the read-only \"../input/\" directory\n",
    "# For example, running this (by clicking run or pressing Shift+Enter) will list all files under the input directory\n",
    "\n",
    "import os\n",
    "for dirname, _, filenames in os.walk('/kaggle/input'):\n",
    "    for filename in filenames:\n",
    "        print(os.path.join(dirname, filename))\n",
    "\n",
    "# You can write up to 20GB to the current directory (/kaggle/working/) that gets preserved as output when you create a version using \"Save & Run All\" \n",
    "# You can also write temporary files to /kaggle/temp/, but they won't be saved outside of the current session"
   ]
  },
  {
   "cell_type": "code",
   "execution_count": 2,
   "id": "9da4043d",
   "metadata": {
    "execution": {
     "iopub.execute_input": "2025-08-01T19:57:06.020123Z",
     "iopub.status.busy": "2025-08-01T19:57:06.019163Z",
     "iopub.status.idle": "2025-08-01T19:57:08.060084Z",
     "shell.execute_reply": "2025-08-01T19:57:08.059254Z"
    },
    "papermill": {
     "duration": 2.047688,
     "end_time": "2025-08-01T19:57:08.062127",
     "exception": false,
     "start_time": "2025-08-01T19:57:06.014439",
     "status": "completed"
    },
    "tags": []
   },
   "outputs": [],
   "source": [
    "from sklearn.impute import SimpleImputer\n",
    "from sklearn.preprocessing import OneHotEncoder\n",
    "from sklearn.preprocessing import OrdinalEncoder"
   ]
  },
  {
   "cell_type": "code",
   "execution_count": 3,
   "id": "2ede6ed3",
   "metadata": {
    "execution": {
     "iopub.execute_input": "2025-08-01T19:57:08.071273Z",
     "iopub.status.busy": "2025-08-01T19:57:08.070748Z",
     "iopub.status.idle": "2025-08-01T19:57:08.090266Z",
     "shell.execute_reply": "2025-08-01T19:57:08.089223Z"
    },
    "papermill": {
     "duration": 0.02608,
     "end_time": "2025-08-01T19:57:08.092184",
     "exception": false,
     "start_time": "2025-08-01T19:57:08.066104",
     "status": "completed"
    },
    "tags": []
   },
   "outputs": [],
   "source": [
    "df=pd.read_csv(\"/kaggle/input/covid-dataset/covid_toy.csv\")"
   ]
  },
  {
   "cell_type": "code",
   "execution_count": 4,
   "id": "064c65d0",
   "metadata": {
    "execution": {
     "iopub.execute_input": "2025-08-01T19:57:08.101413Z",
     "iopub.status.busy": "2025-08-01T19:57:08.101098Z",
     "iopub.status.idle": "2025-08-01T19:57:08.129280Z",
     "shell.execute_reply": "2025-08-01T19:57:08.128252Z"
    },
    "papermill": {
     "duration": 0.034681,
     "end_time": "2025-08-01T19:57:08.130984",
     "exception": false,
     "start_time": "2025-08-01T19:57:08.096303",
     "status": "completed"
    },
    "tags": []
   },
   "outputs": [
    {
     "data": {
      "text/html": [
       "<div>\n",
       "<style scoped>\n",
       "    .dataframe tbody tr th:only-of-type {\n",
       "        vertical-align: middle;\n",
       "    }\n",
       "\n",
       "    .dataframe tbody tr th {\n",
       "        vertical-align: top;\n",
       "    }\n",
       "\n",
       "    .dataframe thead th {\n",
       "        text-align: right;\n",
       "    }\n",
       "</style>\n",
       "<table border=\"1\" class=\"dataframe\">\n",
       "  <thead>\n",
       "    <tr style=\"text-align: right;\">\n",
       "      <th></th>\n",
       "      <th>age</th>\n",
       "      <th>gender</th>\n",
       "      <th>fever</th>\n",
       "      <th>cough</th>\n",
       "      <th>city</th>\n",
       "      <th>has_covid</th>\n",
       "    </tr>\n",
       "  </thead>\n",
       "  <tbody>\n",
       "    <tr>\n",
       "      <th>0</th>\n",
       "      <td>60</td>\n",
       "      <td>Male</td>\n",
       "      <td>103.0</td>\n",
       "      <td>Mild</td>\n",
       "      <td>Kolkata</td>\n",
       "      <td>No</td>\n",
       "    </tr>\n",
       "    <tr>\n",
       "      <th>1</th>\n",
       "      <td>27</td>\n",
       "      <td>Male</td>\n",
       "      <td>100.0</td>\n",
       "      <td>Mild</td>\n",
       "      <td>Delhi</td>\n",
       "      <td>Yes</td>\n",
       "    </tr>\n",
       "    <tr>\n",
       "      <th>2</th>\n",
       "      <td>42</td>\n",
       "      <td>Male</td>\n",
       "      <td>101.0</td>\n",
       "      <td>Mild</td>\n",
       "      <td>Delhi</td>\n",
       "      <td>No</td>\n",
       "    </tr>\n",
       "    <tr>\n",
       "      <th>3</th>\n",
       "      <td>31</td>\n",
       "      <td>Female</td>\n",
       "      <td>98.0</td>\n",
       "      <td>Mild</td>\n",
       "      <td>Kolkata</td>\n",
       "      <td>No</td>\n",
       "    </tr>\n",
       "    <tr>\n",
       "      <th>4</th>\n",
       "      <td>65</td>\n",
       "      <td>Female</td>\n",
       "      <td>101.0</td>\n",
       "      <td>Mild</td>\n",
       "      <td>Mumbai</td>\n",
       "      <td>No</td>\n",
       "    </tr>\n",
       "  </tbody>\n",
       "</table>\n",
       "</div>"
      ],
      "text/plain": [
       "   age  gender  fever cough     city has_covid\n",
       "0   60    Male  103.0  Mild  Kolkata        No\n",
       "1   27    Male  100.0  Mild    Delhi       Yes\n",
       "2   42    Male  101.0  Mild    Delhi        No\n",
       "3   31  Female   98.0  Mild  Kolkata        No\n",
       "4   65  Female  101.0  Mild   Mumbai        No"
      ]
     },
     "execution_count": 4,
     "metadata": {},
     "output_type": "execute_result"
    }
   ],
   "source": [
    "df.head()"
   ]
  },
  {
   "cell_type": "code",
   "execution_count": 5,
   "id": "6db12464",
   "metadata": {
    "execution": {
     "iopub.execute_input": "2025-08-01T19:57:08.139957Z",
     "iopub.status.busy": "2025-08-01T19:57:08.139622Z",
     "iopub.status.idle": "2025-08-01T19:57:08.146958Z",
     "shell.execute_reply": "2025-08-01T19:57:08.146166Z"
    },
    "papermill": {
     "duration": 0.01329,
     "end_time": "2025-08-01T19:57:08.148388",
     "exception": false,
     "start_time": "2025-08-01T19:57:08.135098",
     "status": "completed"
    },
    "tags": []
   },
   "outputs": [
    {
     "data": {
      "text/plain": [
       "age           0\n",
       "gender        0\n",
       "fever        10\n",
       "cough         0\n",
       "city          0\n",
       "has_covid     0\n",
       "dtype: int64"
      ]
     },
     "execution_count": 5,
     "metadata": {},
     "output_type": "execute_result"
    }
   ],
   "source": [
    "df.isnull().sum()"
   ]
  },
  {
   "cell_type": "code",
   "execution_count": 6,
   "id": "1c3a1171",
   "metadata": {
    "execution": {
     "iopub.execute_input": "2025-08-01T19:57:08.157928Z",
     "iopub.status.busy": "2025-08-01T19:57:08.157256Z",
     "iopub.status.idle": "2025-08-01T19:57:08.173309Z",
     "shell.execute_reply": "2025-08-01T19:57:08.172382Z"
    },
    "papermill": {
     "duration": 0.022449,
     "end_time": "2025-08-01T19:57:08.174772",
     "exception": false,
     "start_time": "2025-08-01T19:57:08.152323",
     "status": "completed"
    },
    "tags": []
   },
   "outputs": [],
   "source": [
    "from sklearn.model_selection import train_test_split\n",
    "X_train,X_test,y_train,y_test= train_test_split(df.drop(columns=['has_covid']),df[\"has_covid\"],test_size=0.2)"
   ]
  },
  {
   "cell_type": "code",
   "execution_count": 7,
   "id": "3dea3cbf",
   "metadata": {
    "execution": {
     "iopub.execute_input": "2025-08-01T19:57:08.184699Z",
     "iopub.status.busy": "2025-08-01T19:57:08.183614Z",
     "iopub.status.idle": "2025-08-01T19:57:08.197274Z",
     "shell.execute_reply": "2025-08-01T19:57:08.196307Z"
    },
    "papermill": {
     "duration": 0.020074,
     "end_time": "2025-08-01T19:57:08.198980",
     "exception": false,
     "start_time": "2025-08-01T19:57:08.178906",
     "status": "completed"
    },
    "tags": []
   },
   "outputs": [
    {
     "data": {
      "text/html": [
       "<div>\n",
       "<style scoped>\n",
       "    .dataframe tbody tr th:only-of-type {\n",
       "        vertical-align: middle;\n",
       "    }\n",
       "\n",
       "    .dataframe tbody tr th {\n",
       "        vertical-align: top;\n",
       "    }\n",
       "\n",
       "    .dataframe thead th {\n",
       "        text-align: right;\n",
       "    }\n",
       "</style>\n",
       "<table border=\"1\" class=\"dataframe\">\n",
       "  <thead>\n",
       "    <tr style=\"text-align: right;\">\n",
       "      <th></th>\n",
       "      <th>age</th>\n",
       "      <th>gender</th>\n",
       "      <th>fever</th>\n",
       "      <th>cough</th>\n",
       "      <th>city</th>\n",
       "    </tr>\n",
       "  </thead>\n",
       "  <tbody>\n",
       "    <tr>\n",
       "      <th>76</th>\n",
       "      <td>80</td>\n",
       "      <td>Male</td>\n",
       "      <td>100.0</td>\n",
       "      <td>Mild</td>\n",
       "      <td>Bangalore</td>\n",
       "    </tr>\n",
       "    <tr>\n",
       "      <th>83</th>\n",
       "      <td>17</td>\n",
       "      <td>Female</td>\n",
       "      <td>104.0</td>\n",
       "      <td>Mild</td>\n",
       "      <td>Kolkata</td>\n",
       "    </tr>\n",
       "    <tr>\n",
       "      <th>17</th>\n",
       "      <td>40</td>\n",
       "      <td>Female</td>\n",
       "      <td>98.0</td>\n",
       "      <td>Strong</td>\n",
       "      <td>Delhi</td>\n",
       "    </tr>\n",
       "    <tr>\n",
       "      <th>73</th>\n",
       "      <td>34</td>\n",
       "      <td>Male</td>\n",
       "      <td>98.0</td>\n",
       "      <td>Strong</td>\n",
       "      <td>Kolkata</td>\n",
       "    </tr>\n",
       "    <tr>\n",
       "      <th>86</th>\n",
       "      <td>25</td>\n",
       "      <td>Male</td>\n",
       "      <td>104.0</td>\n",
       "      <td>Mild</td>\n",
       "      <td>Bangalore</td>\n",
       "    </tr>\n",
       "    <tr>\n",
       "      <th>...</th>\n",
       "      <td>...</td>\n",
       "      <td>...</td>\n",
       "      <td>...</td>\n",
       "      <td>...</td>\n",
       "      <td>...</td>\n",
       "    </tr>\n",
       "    <tr>\n",
       "      <th>82</th>\n",
       "      <td>24</td>\n",
       "      <td>Male</td>\n",
       "      <td>98.0</td>\n",
       "      <td>Mild</td>\n",
       "      <td>Kolkata</td>\n",
       "    </tr>\n",
       "    <tr>\n",
       "      <th>63</th>\n",
       "      <td>10</td>\n",
       "      <td>Male</td>\n",
       "      <td>100.0</td>\n",
       "      <td>Mild</td>\n",
       "      <td>Bangalore</td>\n",
       "    </tr>\n",
       "    <tr>\n",
       "      <th>0</th>\n",
       "      <td>60</td>\n",
       "      <td>Male</td>\n",
       "      <td>103.0</td>\n",
       "      <td>Mild</td>\n",
       "      <td>Kolkata</td>\n",
       "    </tr>\n",
       "    <tr>\n",
       "      <th>98</th>\n",
       "      <td>5</td>\n",
       "      <td>Female</td>\n",
       "      <td>98.0</td>\n",
       "      <td>Strong</td>\n",
       "      <td>Mumbai</td>\n",
       "    </tr>\n",
       "    <tr>\n",
       "      <th>96</th>\n",
       "      <td>51</td>\n",
       "      <td>Female</td>\n",
       "      <td>101.0</td>\n",
       "      <td>Strong</td>\n",
       "      <td>Kolkata</td>\n",
       "    </tr>\n",
       "  </tbody>\n",
       "</table>\n",
       "<p>80 rows × 5 columns</p>\n",
       "</div>"
      ],
      "text/plain": [
       "    age  gender  fever   cough       city\n",
       "76   80    Male  100.0    Mild  Bangalore\n",
       "83   17  Female  104.0    Mild    Kolkata\n",
       "17   40  Female   98.0  Strong      Delhi\n",
       "73   34    Male   98.0  Strong    Kolkata\n",
       "86   25    Male  104.0    Mild  Bangalore\n",
       "..  ...     ...    ...     ...        ...\n",
       "82   24    Male   98.0    Mild    Kolkata\n",
       "63   10    Male  100.0    Mild  Bangalore\n",
       "0    60    Male  103.0    Mild    Kolkata\n",
       "98    5  Female   98.0  Strong     Mumbai\n",
       "96   51  Female  101.0  Strong    Kolkata\n",
       "\n",
       "[80 rows x 5 columns]"
      ]
     },
     "execution_count": 7,
     "metadata": {},
     "output_type": "execute_result"
    }
   ],
   "source": [
    "X_train"
   ]
  },
  {
   "cell_type": "markdown",
   "id": "7686ccb5",
   "metadata": {
    "papermill": {
     "duration": 0.003888,
     "end_time": "2025-08-01T19:57:08.207194",
     "exception": false,
     "start_time": "2025-08-01T19:57:08.203306",
     "status": "completed"
    },
    "tags": []
   },
   "source": [
    "# Aam jindegi"
   ]
  },
  {
   "cell_type": "code",
   "execution_count": 8,
   "id": "a823fb05",
   "metadata": {
    "execution": {
     "iopub.execute_input": "2025-08-01T19:57:08.217443Z",
     "iopub.status.busy": "2025-08-01T19:57:08.217102Z",
     "iopub.status.idle": "2025-08-01T19:57:08.231840Z",
     "shell.execute_reply": "2025-08-01T19:57:08.230943Z"
    },
    "papermill": {
     "duration": 0.022026,
     "end_time": "2025-08-01T19:57:08.233259",
     "exception": false,
     "start_time": "2025-08-01T19:57:08.211233",
     "status": "completed"
    },
    "tags": []
   },
   "outputs": [
    {
     "data": {
      "text/plain": [
       "(80, 1)"
      ]
     },
     "execution_count": 8,
     "metadata": {},
     "output_type": "execute_result"
    }
   ],
   "source": [
    "#adiding simple imputer to fever col\n",
    "\n",
    "si=SimpleImputer()\n",
    "X_train_fever= si.fit_transform(X_train[[\"fever\"]])\n",
    "\n",
    "#also the test data\n",
    "X_test_fever=si.fit_transform(X_test[[\"fever\"]])\n",
    "X_train_fever.shape"
   ]
  },
  {
   "cell_type": "code",
   "execution_count": 9,
   "id": "7ced2589",
   "metadata": {
    "execution": {
     "iopub.execute_input": "2025-08-01T19:57:08.243088Z",
     "iopub.status.busy": "2025-08-01T19:57:08.242693Z",
     "iopub.status.idle": "2025-08-01T19:57:08.253188Z",
     "shell.execute_reply": "2025-08-01T19:57:08.252111Z"
    },
    "papermill": {
     "duration": 0.017284,
     "end_time": "2025-08-01T19:57:08.254905",
     "exception": false,
     "start_time": "2025-08-01T19:57:08.237621",
     "status": "completed"
    },
    "tags": []
   },
   "outputs": [
    {
     "data": {
      "text/plain": [
       "(80, 1)"
      ]
     },
     "execution_count": 9,
     "metadata": {},
     "output_type": "execute_result"
    }
   ],
   "source": [
    "#Ordinal encoding\n",
    "oe= OrdinalEncoder(categories=[['Mild','Strong']])\n",
    "X_train_cough=oe.fit_transform(X_train[['cough']])\n",
    "\n",
    "#also the test data\n",
    "X_test_cough=oe.fit_transform(X_test[['cough']])\n",
    "X_train_cough.shape"
   ]
  },
  {
   "cell_type": "code",
   "execution_count": 10,
   "id": "c08c684e",
   "metadata": {
    "execution": {
     "iopub.execute_input": "2025-08-01T19:57:08.264783Z",
     "iopub.status.busy": "2025-08-01T19:57:08.264507Z",
     "iopub.status.idle": "2025-08-01T19:57:08.282458Z",
     "shell.execute_reply": "2025-08-01T19:57:08.281107Z"
    },
    "papermill": {
     "duration": 0.024671,
     "end_time": "2025-08-01T19:57:08.284030",
     "exception": false,
     "start_time": "2025-08-01T19:57:08.259359",
     "status": "completed"
    },
    "tags": []
   },
   "outputs": [
    {
     "name": "stderr",
     "output_type": "stream",
     "text": [
      "/usr/local/lib/python3.11/dist-packages/sklearn/preprocessing/_encoders.py:868: FutureWarning: `sparse` was renamed to `sparse_output` in version 1.2 and will be removed in 1.4. `sparse_output` is ignored unless you leave `sparse` to its default value.\n",
      "  warnings.warn(\n",
      "/usr/local/lib/python3.11/dist-packages/sklearn/preprocessing/_encoders.py:868: FutureWarning: `sparse` was renamed to `sparse_output` in version 1.2 and will be removed in 1.4. `sparse_output` is ignored unless you leave `sparse` to its default value.\n",
      "  warnings.warn(\n"
     ]
    },
    {
     "data": {
      "text/plain": [
       "(80, 4)"
      ]
     },
     "execution_count": 10,
     "metadata": {},
     "output_type": "execute_result"
    }
   ],
   "source": [
    "#one hot encoding -> gender,city\n",
    "ohe= OneHotEncoder(drop='first',sparse=False)# multicolinearity er jonno first col drop(hide) kore deya holo\n",
    "X_train_gender_city=ohe.fit_transform(X_train[['gender','city']])\n",
    "\n",
    "#also the test data\n",
    "X_test_gender_city=ohe.fit_transform(X_test[['gender','city']])\n",
    "X_train_gender_city.shape"
   ]
  },
  {
   "cell_type": "code",
   "execution_count": 11,
   "id": "44e55aac",
   "metadata": {
    "execution": {
     "iopub.execute_input": "2025-08-01T19:57:08.295581Z",
     "iopub.status.busy": "2025-08-01T19:57:08.294743Z",
     "iopub.status.idle": "2025-08-01T19:57:08.302733Z",
     "shell.execute_reply": "2025-08-01T19:57:08.301780Z"
    },
    "papermill": {
     "duration": 0.015466,
     "end_time": "2025-08-01T19:57:08.304419",
     "exception": false,
     "start_time": "2025-08-01T19:57:08.288953",
     "status": "completed"
    },
    "tags": []
   },
   "outputs": [
    {
     "data": {
      "text/plain": [
       "(80, 1)"
      ]
     },
     "execution_count": 11,
     "metadata": {},
     "output_type": "execute_result"
    }
   ],
   "source": [
    "#extracting age\n",
    "X_train_age=X_train.drop(columns=['gender','fever','cough','city']).values\n",
    "\n",
    "#also the test data\n",
    "X_test_age=X_test.drop(columns=['gender','fever','cough','city']).values\n",
    "X_train_age.shape"
   ]
  },
  {
   "cell_type": "code",
   "execution_count": 12,
   "id": "105df87e",
   "metadata": {
    "execution": {
     "iopub.execute_input": "2025-08-01T19:57:08.315218Z",
     "iopub.status.busy": "2025-08-01T19:57:08.314888Z",
     "iopub.status.idle": "2025-08-01T19:57:08.325474Z",
     "shell.execute_reply": "2025-08-01T19:57:08.324616Z"
    },
    "papermill": {
     "duration": 0.01762,
     "end_time": "2025-08-01T19:57:08.326778",
     "exception": false,
     "start_time": "2025-08-01T19:57:08.309158",
     "status": "completed"
    },
    "tags": []
   },
   "outputs": [
    {
     "data": {
      "text/plain": [
       "array([[ 80.        , 100.        ,   1.        ,   0.        ,\n",
       "          0.        ,   0.        ,   0.        ],\n",
       "       [ 17.        , 104.        ,   0.        ,   0.        ,\n",
       "          1.        ,   0.        ,   0.        ],\n",
       "       [ 40.        ,  98.        ,   0.        ,   1.        ,\n",
       "          0.        ,   0.        ,   1.        ],\n",
       "       [ 34.        ,  98.        ,   1.        ,   0.        ,\n",
       "          1.        ,   0.        ,   1.        ],\n",
       "       [ 25.        , 104.        ,   1.        ,   0.        ,\n",
       "          0.        ,   0.        ,   0.        ],\n",
       "       [ 71.        , 100.86486486,   1.        ,   0.        ,\n",
       "          1.        ,   0.        ,   1.        ],\n",
       "       [ 73.        , 103.        ,   0.        ,   1.        ,\n",
       "          0.        ,   0.        ,   0.        ],\n",
       "       [ 33.        , 102.        ,   0.        ,   1.        ,\n",
       "          0.        ,   0.        ,   1.        ],\n",
       "       [ 71.        ,  98.        ,   0.        ,   0.        ,\n",
       "          1.        ,   0.        ,   1.        ],\n",
       "       [ 19.        , 101.        ,   1.        ,   1.        ,\n",
       "          0.        ,   0.        ,   0.        ],\n",
       "       [ 64.        , 101.        ,   0.        ,   1.        ,\n",
       "          0.        ,   0.        ,   0.        ],\n",
       "       [ 60.        ,  99.        ,   0.        ,   0.        ,\n",
       "          0.        ,   1.        ,   0.        ],\n",
       "       [ 65.        ,  99.        ,   1.        ,   0.        ,\n",
       "          0.        ,   0.        ,   0.        ],\n",
       "       [ 65.        ,  99.        ,   1.        ,   1.        ,\n",
       "          0.        ,   0.        ,   0.        ],\n",
       "       [ 82.        , 102.        ,   0.        ,   0.        ,\n",
       "          0.        ,   0.        ,   1.        ],\n",
       "       [ 54.        , 104.        ,   0.        ,   0.        ,\n",
       "          1.        ,   0.        ,   1.        ],\n",
       "       [ 49.        , 101.        ,   0.        ,   1.        ,\n",
       "          0.        ,   0.        ,   0.        ],\n",
       "       [ 49.        ,  99.        ,   0.        ,   0.        ,\n",
       "          0.        ,   0.        ,   1.        ],\n",
       "       [ 27.        , 100.        ,   1.        ,   1.        ,\n",
       "          0.        ,   0.        ,   0.        ],\n",
       "       [ 19.        , 100.        ,   0.        ,   0.        ,\n",
       "          0.        ,   0.        ,   1.        ],\n",
       "       [ 44.        , 104.        ,   1.        ,   0.        ,\n",
       "          0.        ,   1.        ,   0.        ],\n",
       "       [ 14.        , 101.        ,   1.        ,   0.        ,\n",
       "          0.        ,   0.        ,   1.        ],\n",
       "       [ 65.        ,  98.        ,   0.        ,   0.        ,\n",
       "          0.        ,   1.        ,   0.        ],\n",
       "       [ 11.        , 100.        ,   0.        ,   0.        ,\n",
       "          1.        ,   0.        ,   1.        ],\n",
       "       [ 38.        , 101.        ,   0.        ,   0.        ,\n",
       "          0.        ,   0.        ,   0.        ],\n",
       "       [ 18.        , 104.        ,   0.        ,   0.        ,\n",
       "          0.        ,   0.        ,   0.        ],\n",
       "       [ 81.        , 101.        ,   0.        ,   0.        ,\n",
       "          0.        ,   1.        ,   0.        ],\n",
       "       [ 11.        , 100.        ,   1.        ,   0.        ,\n",
       "          0.        ,   0.        ,   0.        ],\n",
       "       [ 50.        , 103.        ,   0.        ,   0.        ,\n",
       "          1.        ,   0.        ,   0.        ],\n",
       "       [ 26.        ,  98.        ,   0.        ,   0.        ,\n",
       "          1.        ,   0.        ,   0.        ],\n",
       "       [ 65.        , 101.        ,   0.        ,   0.        ,\n",
       "          0.        ,   1.        ,   0.        ],\n",
       "       [ 82.        , 100.86486486,   1.        ,   0.        ,\n",
       "          1.        ,   0.        ,   0.        ],\n",
       "       [ 20.        , 101.        ,   0.        ,   0.        ,\n",
       "          0.        ,   0.        ,   0.        ],\n",
       "       [ 27.        , 100.        ,   1.        ,   0.        ,\n",
       "          1.        ,   0.        ,   0.        ],\n",
       "       [ 47.        , 100.        ,   0.        ,   0.        ,\n",
       "          0.        ,   0.        ,   1.        ],\n",
       "       [ 75.        , 100.86486486,   0.        ,   1.        ,\n",
       "          0.        ,   0.        ,   0.        ],\n",
       "       [ 75.        , 104.        ,   0.        ,   1.        ,\n",
       "          0.        ,   0.        ,   1.        ],\n",
       "       [ 64.        , 102.        ,   1.        ,   0.        ,\n",
       "          0.        ,   0.        ,   0.        ],\n",
       "       [ 34.        , 104.        ,   0.        ,   1.        ,\n",
       "          0.        ,   0.        ,   1.        ],\n",
       "       [ 83.        ,  98.        ,   1.        ,   1.        ,\n",
       "          0.        ,   0.        ,   0.        ],\n",
       "       [ 20.        , 102.        ,   1.        ,   1.        ,\n",
       "          0.        ,   0.        ,   1.        ],\n",
       "       [ 80.        ,  98.        ,   0.        ,   1.        ,\n",
       "          0.        ,   0.        ,   0.        ],\n",
       "       [ 59.        ,  99.        ,   0.        ,   1.        ,\n",
       "          0.        ,   0.        ,   1.        ],\n",
       "       [ 14.        ,  99.        ,   0.        ,   0.        ,\n",
       "          0.        ,   1.        ,   0.        ],\n",
       "       [  8.        , 101.        ,   0.        ,   0.        ,\n",
       "          1.        ,   0.        ,   0.        ],\n",
       "       [ 64.        ,  98.        ,   0.        ,   0.        ,\n",
       "          0.        ,   0.        ,   0.        ],\n",
       "       [ 25.        ,  99.        ,   0.        ,   0.        ,\n",
       "          1.        ,   0.        ,   1.        ],\n",
       "       [ 81.        ,  98.        ,   0.        ,   0.        ,\n",
       "          0.        ,   1.        ,   1.        ],\n",
       "       [ 72.        ,  99.        ,   1.        ,   0.        ,\n",
       "          0.        ,   0.        ,   0.        ],\n",
       "       [ 16.        , 103.        ,   0.        ,   0.        ,\n",
       "          0.        ,   0.        ,   0.        ],\n",
       "       [ 42.        , 101.        ,   1.        ,   1.        ,\n",
       "          0.        ,   0.        ,   0.        ],\n",
       "       [ 20.        , 100.86486486,   0.        ,   0.        ,\n",
       "          0.        ,   1.        ,   1.        ],\n",
       "       [ 23.        , 100.86486486,   1.        ,   0.        ,\n",
       "          0.        ,   1.        ,   0.        ],\n",
       "       [  5.        , 100.        ,   0.        ,   0.        ,\n",
       "          1.        ,   0.        ,   0.        ],\n",
       "       [ 42.        , 104.        ,   1.        ,   0.        ,\n",
       "          0.        ,   1.        ,   0.        ],\n",
       "       [  6.        , 104.        ,   0.        ,   0.        ,\n",
       "          1.        ,   0.        ,   0.        ],\n",
       "       [ 23.        ,  98.        ,   1.        ,   0.        ,\n",
       "          0.        ,   1.        ,   1.        ],\n",
       "       [ 12.        , 104.        ,   0.        ,   0.        ,\n",
       "          0.        ,   0.        ,   0.        ],\n",
       "       [ 34.        , 101.        ,   0.        ,   1.        ,\n",
       "          0.        ,   0.        ,   1.        ],\n",
       "       [ 56.        , 104.        ,   0.        ,   0.        ,\n",
       "          0.        ,   0.        ,   1.        ],\n",
       "       [ 48.        , 103.        ,   0.        ,   0.        ,\n",
       "          1.        ,   0.        ,   0.        ],\n",
       "       [ 51.        , 104.        ,   1.        ,   0.        ,\n",
       "          0.        ,   0.        ,   0.        ],\n",
       "       [  5.        , 102.        ,   1.        ,   0.        ,\n",
       "          1.        ,   0.        ,   0.        ],\n",
       "       [ 42.        , 100.86486486,   0.        ,   0.        ,\n",
       "          0.        ,   0.        ,   1.        ],\n",
       "       [ 15.        , 101.        ,   1.        ,   1.        ,\n",
       "          0.        ,   0.        ,   0.        ],\n",
       "       [ 10.        ,  98.        ,   0.        ,   0.        ,\n",
       "          1.        ,   0.        ,   1.        ],\n",
       "       [ 49.        , 102.        ,   0.        ,   1.        ,\n",
       "          0.        ,   0.        ,   0.        ],\n",
       "       [ 27.        , 100.        ,   1.        ,   1.        ,\n",
       "          0.        ,   0.        ,   0.        ],\n",
       "       [ 24.        , 102.        ,   0.        ,   0.        ,\n",
       "          0.        ,   0.        ,   1.        ],\n",
       "       [ 46.        , 103.        ,   1.        ,   0.        ,\n",
       "          0.        ,   0.        ,   1.        ],\n",
       "       [ 69.        ,  98.        ,   0.        ,   0.        ,\n",
       "          0.        ,   1.        ,   1.        ],\n",
       "       [ 12.        ,  98.        ,   1.        ,   0.        ,\n",
       "          0.        ,   0.        ,   1.        ],\n",
       "       [ 16.        , 104.        ,   1.        ,   0.        ,\n",
       "          1.        ,   0.        ,   0.        ],\n",
       "       [ 83.        , 103.        ,   1.        ,   0.        ,\n",
       "          1.        ,   0.        ,   0.        ],\n",
       "       [ 82.        , 102.        ,   0.        ,   0.        ,\n",
       "          1.        ,   0.        ,   1.        ],\n",
       "       [ 24.        ,  98.        ,   1.        ,   0.        ,\n",
       "          1.        ,   0.        ,   0.        ],\n",
       "       [ 10.        , 100.        ,   1.        ,   0.        ,\n",
       "          0.        ,   0.        ,   0.        ],\n",
       "       [ 60.        , 103.        ,   1.        ,   0.        ,\n",
       "          1.        ,   0.        ,   0.        ],\n",
       "       [  5.        ,  98.        ,   0.        ,   0.        ,\n",
       "          0.        ,   1.        ,   1.        ],\n",
       "       [ 51.        , 101.        ,   0.        ,   0.        ,\n",
       "          1.        ,   0.        ,   1.        ]])"
      ]
     },
     "execution_count": 12,
     "metadata": {},
     "output_type": "execute_result"
    }
   ],
   "source": [
    "X_train_transformed=np.concatenate((X_train_age, X_train_fever, X_train_gender_city,X_train_cough),axis=1)\n",
    "\n",
    "#also the test data\n",
    "X_test_transformed=np.concatenate((X_test_age, X_test_fever, X_test_gender_city,X_test_cough),axis=1)\n",
    "\n",
    "X_train_transformed"
   ]
  },
  {
   "cell_type": "markdown",
   "id": "616dec71",
   "metadata": {
    "papermill": {
     "duration": 0.004323,
     "end_time": "2025-08-01T19:57:08.336001",
     "exception": false,
     "start_time": "2025-08-01T19:57:08.331678",
     "status": "completed"
    },
    "tags": []
   },
   "source": [
    "# uporer shobkichu onek hectic \n"
   ]
  },
  {
   "cell_type": "markdown",
   "id": "c2a37ae6",
   "metadata": {
    "papermill": {
     "duration": 0.004352,
     "end_time": "2025-08-01T19:57:08.344833",
     "exception": false,
     "start_time": "2025-08-01T19:57:08.340481",
     "status": "completed"
    },
    "tags": []
   },
   "source": [
    "# Mentos jindegi"
   ]
  },
  {
   "cell_type": "code",
   "execution_count": 13,
   "id": "7369be2f",
   "metadata": {
    "execution": {
     "iopub.execute_input": "2025-08-01T19:57:08.355249Z",
     "iopub.status.busy": "2025-08-01T19:57:08.354827Z",
     "iopub.status.idle": "2025-08-01T19:57:08.380239Z",
     "shell.execute_reply": "2025-08-01T19:57:08.379070Z"
    },
    "papermill": {
     "duration": 0.032778,
     "end_time": "2025-08-01T19:57:08.382107",
     "exception": false,
     "start_time": "2025-08-01T19:57:08.349329",
     "status": "completed"
    },
    "tags": []
   },
   "outputs": [],
   "source": [
    "from sklearn.compose import ColumnTransformer\n"
   ]
  },
  {
   "cell_type": "code",
   "execution_count": 14,
   "id": "4cbf1ce0",
   "metadata": {
    "execution": {
     "iopub.execute_input": "2025-08-01T19:57:08.393679Z",
     "iopub.status.busy": "2025-08-01T19:57:08.393349Z",
     "iopub.status.idle": "2025-08-01T19:57:08.399101Z",
     "shell.execute_reply": "2025-08-01T19:57:08.397972Z"
    },
    "papermill": {
     "duration": 0.013461,
     "end_time": "2025-08-01T19:57:08.400536",
     "exception": false,
     "start_time": "2025-08-01T19:57:08.387075",
     "status": "completed"
    },
    "tags": []
   },
   "outputs": [],
   "source": [
    "transformer= ColumnTransformer(transformers=[\n",
    "    ('tnf1',SimpleImputer(),['fever']),\n",
    "    ('tnf2',OrdinalEncoder(categories=[['Mild','Strong']]),['cough']),\n",
    "    ('tnf3' ,OneHotEncoder(sparse=False,drop='first'),['gender','city'])\n",
    "],remainder='passthrough')"
   ]
  },
  {
   "cell_type": "code",
   "execution_count": 15,
   "id": "1000a9bc",
   "metadata": {
    "collapsed": true,
    "execution": {
     "iopub.execute_input": "2025-08-01T19:57:08.411544Z",
     "iopub.status.busy": "2025-08-01T19:57:08.411197Z",
     "iopub.status.idle": "2025-08-01T19:57:08.431898Z",
     "shell.execute_reply": "2025-08-01T19:57:08.430998Z"
    },
    "jupyter": {
     "outputs_hidden": true
    },
    "papermill": {
     "duration": 0.027846,
     "end_time": "2025-08-01T19:57:08.433438",
     "exception": false,
     "start_time": "2025-08-01T19:57:08.405592",
     "status": "completed"
    },
    "tags": []
   },
   "outputs": [
    {
     "name": "stderr",
     "output_type": "stream",
     "text": [
      "/usr/local/lib/python3.11/dist-packages/sklearn/preprocessing/_encoders.py:868: FutureWarning: `sparse` was renamed to `sparse_output` in version 1.2 and will be removed in 1.4. `sparse_output` is ignored unless you leave `sparse` to its default value.\n",
      "  warnings.warn(\n"
     ]
    },
    {
     "data": {
      "text/plain": [
       "array([[100.        ,   0.        ,   1.        ,   0.        ,\n",
       "          0.        ,   0.        ,  80.        ],\n",
       "       [104.        ,   0.        ,   0.        ,   0.        ,\n",
       "          1.        ,   0.        ,  17.        ],\n",
       "       [ 98.        ,   1.        ,   0.        ,   1.        ,\n",
       "          0.        ,   0.        ,  40.        ],\n",
       "       [ 98.        ,   1.        ,   1.        ,   0.        ,\n",
       "          1.        ,   0.        ,  34.        ],\n",
       "       [104.        ,   0.        ,   1.        ,   0.        ,\n",
       "          0.        ,   0.        ,  25.        ],\n",
       "       [100.86486486,   1.        ,   1.        ,   0.        ,\n",
       "          1.        ,   0.        ,  71.        ],\n",
       "       [103.        ,   0.        ,   0.        ,   1.        ,\n",
       "          0.        ,   0.        ,  73.        ],\n",
       "       [102.        ,   1.        ,   0.        ,   1.        ,\n",
       "          0.        ,   0.        ,  33.        ],\n",
       "       [ 98.        ,   1.        ,   0.        ,   0.        ,\n",
       "          1.        ,   0.        ,  71.        ],\n",
       "       [101.        ,   0.        ,   1.        ,   1.        ,\n",
       "          0.        ,   0.        ,  19.        ],\n",
       "       [101.        ,   0.        ,   0.        ,   1.        ,\n",
       "          0.        ,   0.        ,  64.        ],\n",
       "       [ 99.        ,   0.        ,   0.        ,   0.        ,\n",
       "          0.        ,   1.        ,  60.        ],\n",
       "       [ 99.        ,   0.        ,   1.        ,   0.        ,\n",
       "          0.        ,   0.        ,  65.        ],\n",
       "       [ 99.        ,   0.        ,   1.        ,   1.        ,\n",
       "          0.        ,   0.        ,  65.        ],\n",
       "       [102.        ,   1.        ,   0.        ,   0.        ,\n",
       "          0.        ,   0.        ,  82.        ],\n",
       "       [104.        ,   1.        ,   0.        ,   0.        ,\n",
       "          1.        ,   0.        ,  54.        ],\n",
       "       [101.        ,   0.        ,   0.        ,   1.        ,\n",
       "          0.        ,   0.        ,  49.        ],\n",
       "       [ 99.        ,   1.        ,   0.        ,   0.        ,\n",
       "          0.        ,   0.        ,  49.        ],\n",
       "       [100.        ,   0.        ,   1.        ,   1.        ,\n",
       "          0.        ,   0.        ,  27.        ],\n",
       "       [100.        ,   1.        ,   0.        ,   0.        ,\n",
       "          0.        ,   0.        ,  19.        ],\n",
       "       [104.        ,   0.        ,   1.        ,   0.        ,\n",
       "          0.        ,   1.        ,  44.        ],\n",
       "       [101.        ,   1.        ,   1.        ,   0.        ,\n",
       "          0.        ,   0.        ,  14.        ],\n",
       "       [ 98.        ,   0.        ,   0.        ,   0.        ,\n",
       "          0.        ,   1.        ,  65.        ],\n",
       "       [100.        ,   1.        ,   0.        ,   0.        ,\n",
       "          1.        ,   0.        ,  11.        ],\n",
       "       [101.        ,   0.        ,   0.        ,   0.        ,\n",
       "          0.        ,   0.        ,  38.        ],\n",
       "       [104.        ,   0.        ,   0.        ,   0.        ,\n",
       "          0.        ,   0.        ,  18.        ],\n",
       "       [101.        ,   0.        ,   0.        ,   0.        ,\n",
       "          0.        ,   1.        ,  81.        ],\n",
       "       [100.        ,   0.        ,   1.        ,   0.        ,\n",
       "          0.        ,   0.        ,  11.        ],\n",
       "       [103.        ,   0.        ,   0.        ,   0.        ,\n",
       "          1.        ,   0.        ,  50.        ],\n",
       "       [ 98.        ,   0.        ,   0.        ,   0.        ,\n",
       "          1.        ,   0.        ,  26.        ],\n",
       "       [101.        ,   0.        ,   0.        ,   0.        ,\n",
       "          0.        ,   1.        ,  65.        ],\n",
       "       [100.86486486,   0.        ,   1.        ,   0.        ,\n",
       "          1.        ,   0.        ,  82.        ],\n",
       "       [101.        ,   0.        ,   0.        ,   0.        ,\n",
       "          0.        ,   0.        ,  20.        ],\n",
       "       [100.        ,   0.        ,   1.        ,   0.        ,\n",
       "          1.        ,   0.        ,  27.        ],\n",
       "       [100.        ,   1.        ,   0.        ,   0.        ,\n",
       "          0.        ,   0.        ,  47.        ],\n",
       "       [100.86486486,   0.        ,   0.        ,   1.        ,\n",
       "          0.        ,   0.        ,  75.        ],\n",
       "       [104.        ,   1.        ,   0.        ,   1.        ,\n",
       "          0.        ,   0.        ,  75.        ],\n",
       "       [102.        ,   0.        ,   1.        ,   0.        ,\n",
       "          0.        ,   0.        ,  64.        ],\n",
       "       [104.        ,   1.        ,   0.        ,   1.        ,\n",
       "          0.        ,   0.        ,  34.        ],\n",
       "       [ 98.        ,   0.        ,   1.        ,   1.        ,\n",
       "          0.        ,   0.        ,  83.        ],\n",
       "       [102.        ,   1.        ,   1.        ,   1.        ,\n",
       "          0.        ,   0.        ,  20.        ],\n",
       "       [ 98.        ,   0.        ,   0.        ,   1.        ,\n",
       "          0.        ,   0.        ,  80.        ],\n",
       "       [ 99.        ,   1.        ,   0.        ,   1.        ,\n",
       "          0.        ,   0.        ,  59.        ],\n",
       "       [ 99.        ,   0.        ,   0.        ,   0.        ,\n",
       "          0.        ,   1.        ,  14.        ],\n",
       "       [101.        ,   0.        ,   0.        ,   0.        ,\n",
       "          1.        ,   0.        ,   8.        ],\n",
       "       [ 98.        ,   0.        ,   0.        ,   0.        ,\n",
       "          0.        ,   0.        ,  64.        ],\n",
       "       [ 99.        ,   1.        ,   0.        ,   0.        ,\n",
       "          1.        ,   0.        ,  25.        ],\n",
       "       [ 98.        ,   1.        ,   0.        ,   0.        ,\n",
       "          0.        ,   1.        ,  81.        ],\n",
       "       [ 99.        ,   0.        ,   1.        ,   0.        ,\n",
       "          0.        ,   0.        ,  72.        ],\n",
       "       [103.        ,   0.        ,   0.        ,   0.        ,\n",
       "          0.        ,   0.        ,  16.        ],\n",
       "       [101.        ,   0.        ,   1.        ,   1.        ,\n",
       "          0.        ,   0.        ,  42.        ],\n",
       "       [100.86486486,   1.        ,   0.        ,   0.        ,\n",
       "          0.        ,   1.        ,  20.        ],\n",
       "       [100.86486486,   0.        ,   1.        ,   0.        ,\n",
       "          0.        ,   1.        ,  23.        ],\n",
       "       [100.        ,   0.        ,   0.        ,   0.        ,\n",
       "          1.        ,   0.        ,   5.        ],\n",
       "       [104.        ,   0.        ,   1.        ,   0.        ,\n",
       "          0.        ,   1.        ,  42.        ],\n",
       "       [104.        ,   0.        ,   0.        ,   0.        ,\n",
       "          1.        ,   0.        ,   6.        ],\n",
       "       [ 98.        ,   1.        ,   1.        ,   0.        ,\n",
       "          0.        ,   1.        ,  23.        ],\n",
       "       [104.        ,   0.        ,   0.        ,   0.        ,\n",
       "          0.        ,   0.        ,  12.        ],\n",
       "       [101.        ,   1.        ,   0.        ,   1.        ,\n",
       "          0.        ,   0.        ,  34.        ],\n",
       "       [104.        ,   1.        ,   0.        ,   0.        ,\n",
       "          0.        ,   0.        ,  56.        ],\n",
       "       [103.        ,   0.        ,   0.        ,   0.        ,\n",
       "          1.        ,   0.        ,  48.        ],\n",
       "       [104.        ,   0.        ,   1.        ,   0.        ,\n",
       "          0.        ,   0.        ,  51.        ],\n",
       "       [102.        ,   0.        ,   1.        ,   0.        ,\n",
       "          1.        ,   0.        ,   5.        ],\n",
       "       [100.86486486,   1.        ,   0.        ,   0.        ,\n",
       "          0.        ,   0.        ,  42.        ],\n",
       "       [101.        ,   0.        ,   1.        ,   1.        ,\n",
       "          0.        ,   0.        ,  15.        ],\n",
       "       [ 98.        ,   1.        ,   0.        ,   0.        ,\n",
       "          1.        ,   0.        ,  10.        ],\n",
       "       [102.        ,   0.        ,   0.        ,   1.        ,\n",
       "          0.        ,   0.        ,  49.        ],\n",
       "       [100.        ,   0.        ,   1.        ,   1.        ,\n",
       "          0.        ,   0.        ,  27.        ],\n",
       "       [102.        ,   1.        ,   0.        ,   0.        ,\n",
       "          0.        ,   0.        ,  24.        ],\n",
       "       [103.        ,   1.        ,   1.        ,   0.        ,\n",
       "          0.        ,   0.        ,  46.        ],\n",
       "       [ 98.        ,   1.        ,   0.        ,   0.        ,\n",
       "          0.        ,   1.        ,  69.        ],\n",
       "       [ 98.        ,   1.        ,   1.        ,   0.        ,\n",
       "          0.        ,   0.        ,  12.        ],\n",
       "       [104.        ,   0.        ,   1.        ,   0.        ,\n",
       "          1.        ,   0.        ,  16.        ],\n",
       "       [103.        ,   0.        ,   1.        ,   0.        ,\n",
       "          1.        ,   0.        ,  83.        ],\n",
       "       [102.        ,   1.        ,   0.        ,   0.        ,\n",
       "          1.        ,   0.        ,  82.        ],\n",
       "       [ 98.        ,   0.        ,   1.        ,   0.        ,\n",
       "          1.        ,   0.        ,  24.        ],\n",
       "       [100.        ,   0.        ,   1.        ,   0.        ,\n",
       "          0.        ,   0.        ,  10.        ],\n",
       "       [103.        ,   0.        ,   1.        ,   0.        ,\n",
       "          1.        ,   0.        ,  60.        ],\n",
       "       [ 98.        ,   1.        ,   0.        ,   0.        ,\n",
       "          0.        ,   1.        ,   5.        ],\n",
       "       [101.        ,   1.        ,   0.        ,   0.        ,\n",
       "          1.        ,   0.        ,  51.        ]])"
      ]
     },
     "execution_count": 15,
     "metadata": {},
     "output_type": "execute_result"
    }
   ],
   "source": [
    "transformer.fit_transform(X_train)\n"
   ]
  },
  {
   "cell_type": "code",
   "execution_count": 16,
   "id": "45b4a912",
   "metadata": {
    "collapsed": true,
    "execution": {
     "iopub.execute_input": "2025-08-01T19:57:08.444948Z",
     "iopub.status.busy": "2025-08-01T19:57:08.444607Z",
     "iopub.status.idle": "2025-08-01T19:57:08.457949Z",
     "shell.execute_reply": "2025-08-01T19:57:08.456953Z"
    },
    "jupyter": {
     "outputs_hidden": true
    },
    "papermill": {
     "duration": 0.020805,
     "end_time": "2025-08-01T19:57:08.459467",
     "exception": false,
     "start_time": "2025-08-01T19:57:08.438662",
     "status": "completed"
    },
    "tags": []
   },
   "outputs": [
    {
     "data": {
      "text/plain": [
       "array([[101.        ,   0.        ,   0.        ,   0.        ,\n",
       "          1.        ,   0.        ,  83.        ],\n",
       "       [103.        ,   1.        ,   1.        ,   0.        ,\n",
       "          1.        ,   0.        ,  70.        ],\n",
       "       [101.        ,   1.        ,   0.        ,   1.        ,\n",
       "          0.        ,   0.        ,  68.        ],\n",
       "       [100.86486486,   1.        ,   0.        ,   0.        ,\n",
       "          0.        ,   1.        ,  34.        ],\n",
       "       [104.        ,   0.        ,   1.        ,   0.        ,\n",
       "          1.        ,   0.        ,  51.        ],\n",
       "       [100.        ,   0.        ,   0.        ,   0.        ,\n",
       "          1.        ,   0.        ,  19.        ],\n",
       "       [ 98.        ,   0.        ,   1.        ,   0.        ,\n",
       "          0.        ,   0.        ,  73.        ],\n",
       "       [ 99.        ,   0.        ,   0.        ,   0.        ,\n",
       "          0.        ,   0.        ,  22.        ],\n",
       "       [101.        ,   0.        ,   0.        ,   0.        ,\n",
       "          0.        ,   1.        ,  19.        ],\n",
       "       [100.        ,   1.        ,   0.        ,   0.        ,\n",
       "          1.        ,   0.        ,  13.        ],\n",
       "       [103.        ,   0.        ,   0.        ,   0.        ,\n",
       "          1.        ,   0.        ,  69.        ],\n",
       "       [ 99.        ,   1.        ,   1.        ,   0.        ,\n",
       "          0.        ,   0.        ,  66.        ],\n",
       "       [100.        ,   0.        ,   1.        ,   0.        ,\n",
       "          1.        ,   0.        ,  55.        ],\n",
       "       [102.        ,   0.        ,   0.        ,   0.        ,\n",
       "          0.        ,   0.        ,  69.        ],\n",
       "       [100.86486486,   0.        ,   0.        ,   0.        ,\n",
       "          0.        ,   0.        ,  84.        ],\n",
       "       [ 98.        ,   0.        ,   0.        ,   0.        ,\n",
       "          1.        ,   0.        ,  31.        ],\n",
       "       [100.86486486,   0.        ,   1.        ,   1.        ,\n",
       "          0.        ,   0.        ,  38.        ],\n",
       "       [100.86486486,   1.        ,   1.        ,   0.        ,\n",
       "          1.        ,   0.        ,  79.        ],\n",
       "       [101.        ,   1.        ,   1.        ,   0.        ,\n",
       "          0.        ,   0.        ,  47.        ],\n",
       "       [102.        ,   0.        ,   1.        ,   0.        ,\n",
       "          0.        ,   1.        ,  74.        ]])"
      ]
     },
     "execution_count": 16,
     "metadata": {},
     "output_type": "execute_result"
    }
   ],
   "source": [
    "transformer.transform(X_test)"
   ]
  }
 ],
 "metadata": {
  "kaggle": {
   "accelerator": "none",
   "dataSources": [
    {
     "datasetId": 7983554,
     "sourceId": 12634348,
     "sourceType": "datasetVersion"
    }
   ],
   "dockerImageVersionId": 31089,
   "isGpuEnabled": false,
   "isInternetEnabled": false,
   "language": "python",
   "sourceType": "notebook"
  },
  "kernelspec": {
   "display_name": "Python 3",
   "language": "python",
   "name": "python3"
  },
  "language_info": {
   "codemirror_mode": {
    "name": "ipython",
    "version": 3
   },
   "file_extension": ".py",
   "mimetype": "text/x-python",
   "name": "python",
   "nbconvert_exporter": "python",
   "pygments_lexer": "ipython3",
   "version": "3.11.13"
  },
  "papermill": {
   "default_parameters": {},
   "duration": 10.529805,
   "end_time": "2025-08-01T19:57:09.188593",
   "environment_variables": {},
   "exception": null,
   "input_path": "__notebook__.ipynb",
   "output_path": "__notebook__.ipynb",
   "parameters": {},
   "start_time": "2025-08-01T19:56:58.658788",
   "version": "2.6.0"
  }
 },
 "nbformat": 4,
 "nbformat_minor": 5
}
