{
 "cells": [
  {
   "cell_type": "code",
   "execution_count": 1,
   "id": "821eac73",
   "metadata": {
    "_cell_guid": "b1076dfc-b9ad-4769-8c92-a6c4dae69d19",
    "_uuid": "8f2839f25d086af736a60e9eeb907d3b93b6e0e5",
    "execution": {
     "iopub.execute_input": "2025-08-01T20:04:53.720736Z",
     "iopub.status.busy": "2025-08-01T20:04:53.720346Z",
     "iopub.status.idle": "2025-08-01T20:04:55.581179Z",
     "shell.execute_reply": "2025-08-01T20:04:55.580074Z"
    },
    "papermill": {
     "duration": 1.868276,
     "end_time": "2025-08-01T20:04:55.582832",
     "exception": false,
     "start_time": "2025-08-01T20:04:53.714556",
     "status": "completed"
    },
    "tags": []
   },
   "outputs": [
    {
     "name": "stdout",
     "output_type": "stream",
     "text": [
      "/kaggle/input/customer/customer.csv\n"
     ]
    }
   ],
   "source": [
    "# This Python 3 environment comes with many helpful analytics libraries installed\n",
    "# It is defined by the kaggle/python Docker image: https://github.com/kaggle/docker-python\n",
    "# For example, here's several helpful packages to load\n",
    "\n",
    "import numpy as np # linear algebra\n",
    "import pandas as pd # data processing, CSV file I/O (e.g. pd.read_csv)\n",
    "\n",
    "# Input data files are available in the read-only \"../input/\" directory\n",
    "# For example, running this (by clicking run or pressing Shift+Enter) will list all files under the input directory\n",
    "\n",
    "import os\n",
    "for dirname, _, filenames in os.walk('/kaggle/input'):\n",
    "    for filename in filenames:\n",
    "        print(os.path.join(dirname, filename))\n",
    "\n",
    "# You can write up to 20GB to the current directory (/kaggle/working/) that gets preserved as output when you create a version using \"Save & Run All\" \n",
    "# You can also write temporary files to /kaggle/temp/, but they won't be saved outside of the current session"
   ]
  },
  {
   "cell_type": "code",
   "execution_count": 2,
   "id": "4a972266",
   "metadata": {
    "execution": {
     "iopub.execute_input": "2025-08-01T20:04:55.593292Z",
     "iopub.status.busy": "2025-08-01T20:04:55.592806Z",
     "iopub.status.idle": "2025-08-01T20:04:55.597504Z",
     "shell.execute_reply": "2025-08-01T20:04:55.596727Z"
    },
    "papermill": {
     "duration": 0.011753,
     "end_time": "2025-08-01T20:04:55.599135",
     "exception": false,
     "start_time": "2025-08-01T20:04:55.587382",
     "status": "completed"
    },
    "tags": []
   },
   "outputs": [],
   "source": [
    "import numpy as np\n",
    "import pandas as pd"
   ]
  },
  {
   "cell_type": "code",
   "execution_count": 3,
   "id": "153ea5c8",
   "metadata": {
    "execution": {
     "iopub.execute_input": "2025-08-01T20:04:55.608811Z",
     "iopub.status.busy": "2025-08-01T20:04:55.608539Z",
     "iopub.status.idle": "2025-08-01T20:04:55.626355Z",
     "shell.execute_reply": "2025-08-01T20:04:55.625456Z"
    },
    "papermill": {
     "duration": 0.024305,
     "end_time": "2025-08-01T20:04:55.628019",
     "exception": false,
     "start_time": "2025-08-01T20:04:55.603714",
     "status": "completed"
    },
    "tags": []
   },
   "outputs": [],
   "source": [
    "df=pd.read_csv(\"/kaggle/input/customer/customer.csv\")"
   ]
  },
  {
   "cell_type": "code",
   "execution_count": 4,
   "id": "1f524823",
   "metadata": {
    "execution": {
     "iopub.execute_input": "2025-08-01T20:04:55.637041Z",
     "iopub.status.busy": "2025-08-01T20:04:55.636716Z",
     "iopub.status.idle": "2025-08-01T20:04:55.669865Z",
     "shell.execute_reply": "2025-08-01T20:04:55.668954Z"
    },
    "papermill": {
     "duration": 0.039377,
     "end_time": "2025-08-01T20:04:55.671383",
     "exception": false,
     "start_time": "2025-08-01T20:04:55.632006",
     "status": "completed"
    },
    "tags": []
   },
   "outputs": [
    {
     "data": {
      "text/html": [
       "<div>\n",
       "<style scoped>\n",
       "    .dataframe tbody tr th:only-of-type {\n",
       "        vertical-align: middle;\n",
       "    }\n",
       "\n",
       "    .dataframe tbody tr th {\n",
       "        vertical-align: top;\n",
       "    }\n",
       "\n",
       "    .dataframe thead th {\n",
       "        text-align: right;\n",
       "    }\n",
       "</style>\n",
       "<table border=\"1\" class=\"dataframe\">\n",
       "  <thead>\n",
       "    <tr style=\"text-align: right;\">\n",
       "      <th></th>\n",
       "      <th>age</th>\n",
       "      <th>gender</th>\n",
       "      <th>review</th>\n",
       "      <th>education</th>\n",
       "      <th>purchased</th>\n",
       "    </tr>\n",
       "  </thead>\n",
       "  <tbody>\n",
       "    <tr>\n",
       "      <th>0</th>\n",
       "      <td>30</td>\n",
       "      <td>Female</td>\n",
       "      <td>Average</td>\n",
       "      <td>School</td>\n",
       "      <td>No</td>\n",
       "    </tr>\n",
       "    <tr>\n",
       "      <th>32</th>\n",
       "      <td>92</td>\n",
       "      <td>Male</td>\n",
       "      <td>Average</td>\n",
       "      <td>UG</td>\n",
       "      <td>Yes</td>\n",
       "    </tr>\n",
       "    <tr>\n",
       "      <th>43</th>\n",
       "      <td>27</td>\n",
       "      <td>Male</td>\n",
       "      <td>Poor</td>\n",
       "      <td>PG</td>\n",
       "      <td>No</td>\n",
       "    </tr>\n",
       "    <tr>\n",
       "      <th>21</th>\n",
       "      <td>32</td>\n",
       "      <td>Male</td>\n",
       "      <td>Average</td>\n",
       "      <td>PG</td>\n",
       "      <td>No</td>\n",
       "    </tr>\n",
       "    <tr>\n",
       "      <th>8</th>\n",
       "      <td>65</td>\n",
       "      <td>Female</td>\n",
       "      <td>Average</td>\n",
       "      <td>UG</td>\n",
       "      <td>No</td>\n",
       "    </tr>\n",
       "  </tbody>\n",
       "</table>\n",
       "</div>"
      ],
      "text/plain": [
       "    age  gender   review education purchased\n",
       "0    30  Female  Average    School        No\n",
       "32   92    Male  Average        UG       Yes\n",
       "43   27    Male     Poor        PG        No\n",
       "21   32    Male  Average        PG        No\n",
       "8    65  Female  Average        UG        No"
      ]
     },
     "execution_count": 4,
     "metadata": {},
     "output_type": "execute_result"
    }
   ],
   "source": [
    "df.sample(5)"
   ]
  },
  {
   "cell_type": "code",
   "execution_count": 5,
   "id": "78de555f",
   "metadata": {
    "execution": {
     "iopub.execute_input": "2025-08-01T20:04:55.680504Z",
     "iopub.status.busy": "2025-08-01T20:04:55.680234Z",
     "iopub.status.idle": "2025-08-01T20:04:55.684896Z",
     "shell.execute_reply": "2025-08-01T20:04:55.684101Z"
    },
    "papermill": {
     "duration": 0.010943,
     "end_time": "2025-08-01T20:04:55.686466",
     "exception": false,
     "start_time": "2025-08-01T20:04:55.675523",
     "status": "completed"
    },
    "tags": []
   },
   "outputs": [],
   "source": [
    "df=df.iloc[:,2:]"
   ]
  },
  {
   "cell_type": "code",
   "execution_count": 6,
   "id": "0786a5a2",
   "metadata": {
    "execution": {
     "iopub.execute_input": "2025-08-01T20:04:55.695523Z",
     "iopub.status.busy": "2025-08-01T20:04:55.695208Z",
     "iopub.status.idle": "2025-08-01T20:04:55.703882Z",
     "shell.execute_reply": "2025-08-01T20:04:55.703031Z"
    },
    "papermill": {
     "duration": 0.014892,
     "end_time": "2025-08-01T20:04:55.705419",
     "exception": false,
     "start_time": "2025-08-01T20:04:55.690527",
     "status": "completed"
    },
    "tags": []
   },
   "outputs": [
    {
     "data": {
      "text/html": [
       "<div>\n",
       "<style scoped>\n",
       "    .dataframe tbody tr th:only-of-type {\n",
       "        vertical-align: middle;\n",
       "    }\n",
       "\n",
       "    .dataframe tbody tr th {\n",
       "        vertical-align: top;\n",
       "    }\n",
       "\n",
       "    .dataframe thead th {\n",
       "        text-align: right;\n",
       "    }\n",
       "</style>\n",
       "<table border=\"1\" class=\"dataframe\">\n",
       "  <thead>\n",
       "    <tr style=\"text-align: right;\">\n",
       "      <th></th>\n",
       "      <th>review</th>\n",
       "      <th>education</th>\n",
       "      <th>purchased</th>\n",
       "    </tr>\n",
       "  </thead>\n",
       "  <tbody>\n",
       "    <tr>\n",
       "      <th>0</th>\n",
       "      <td>Average</td>\n",
       "      <td>School</td>\n",
       "      <td>No</td>\n",
       "    </tr>\n",
       "    <tr>\n",
       "      <th>1</th>\n",
       "      <td>Poor</td>\n",
       "      <td>UG</td>\n",
       "      <td>No</td>\n",
       "    </tr>\n",
       "    <tr>\n",
       "      <th>2</th>\n",
       "      <td>Good</td>\n",
       "      <td>PG</td>\n",
       "      <td>No</td>\n",
       "    </tr>\n",
       "    <tr>\n",
       "      <th>3</th>\n",
       "      <td>Good</td>\n",
       "      <td>PG</td>\n",
       "      <td>No</td>\n",
       "    </tr>\n",
       "    <tr>\n",
       "      <th>4</th>\n",
       "      <td>Average</td>\n",
       "      <td>UG</td>\n",
       "      <td>No</td>\n",
       "    </tr>\n",
       "  </tbody>\n",
       "</table>\n",
       "</div>"
      ],
      "text/plain": [
       "    review education purchased\n",
       "0  Average    School        No\n",
       "1     Poor        UG        No\n",
       "2     Good        PG        No\n",
       "3     Good        PG        No\n",
       "4  Average        UG        No"
      ]
     },
     "execution_count": 6,
     "metadata": {},
     "output_type": "execute_result"
    }
   ],
   "source": [
    "df.head()"
   ]
  },
  {
   "cell_type": "markdown",
   "id": "0e73f98f",
   "metadata": {
    "papermill": {
     "duration": 0.004014,
     "end_time": "2025-08-01T20:04:55.713763",
     "exception": false,
     "start_time": "2025-08-01T20:04:55.709749",
     "status": "completed"
    },
    "tags": []
   },
   "source": [
    "# Train test split"
   ]
  },
  {
   "cell_type": "code",
   "execution_count": 7,
   "id": "98e8184f",
   "metadata": {
    "execution": {
     "iopub.execute_input": "2025-08-01T20:04:55.723457Z",
     "iopub.status.busy": "2025-08-01T20:04:55.722808Z",
     "iopub.status.idle": "2025-08-01T20:04:57.409604Z",
     "shell.execute_reply": "2025-08-01T20:04:57.408786Z"
    },
    "papermill": {
     "duration": 1.693276,
     "end_time": "2025-08-01T20:04:57.411304",
     "exception": false,
     "start_time": "2025-08-01T20:04:55.718028",
     "status": "completed"
    },
    "tags": []
   },
   "outputs": [],
   "source": [
    "from sklearn.model_selection import train_test_split\n",
    "X_train,X_test,y_train,y_test= train_test_split(df.iloc[:,0:2],df.iloc[:,-1],test_size=0.2)"
   ]
  },
  {
   "cell_type": "code",
   "execution_count": 8,
   "id": "cd7c4436",
   "metadata": {
    "execution": {
     "iopub.execute_input": "2025-08-01T20:04:57.422430Z",
     "iopub.status.busy": "2025-08-01T20:04:57.421480Z",
     "iopub.status.idle": "2025-08-01T20:04:57.431278Z",
     "shell.execute_reply": "2025-08-01T20:04:57.430387Z"
    },
    "papermill": {
     "duration": 0.0163,
     "end_time": "2025-08-01T20:04:57.432820",
     "exception": false,
     "start_time": "2025-08-01T20:04:57.416520",
     "status": "completed"
    },
    "tags": []
   },
   "outputs": [
    {
     "data": {
      "text/html": [
       "<div>\n",
       "<style scoped>\n",
       "    .dataframe tbody tr th:only-of-type {\n",
       "        vertical-align: middle;\n",
       "    }\n",
       "\n",
       "    .dataframe tbody tr th {\n",
       "        vertical-align: top;\n",
       "    }\n",
       "\n",
       "    .dataframe thead th {\n",
       "        text-align: right;\n",
       "    }\n",
       "</style>\n",
       "<table border=\"1\" class=\"dataframe\">\n",
       "  <thead>\n",
       "    <tr style=\"text-align: right;\">\n",
       "      <th></th>\n",
       "      <th>review</th>\n",
       "      <th>education</th>\n",
       "    </tr>\n",
       "  </thead>\n",
       "  <tbody>\n",
       "    <tr>\n",
       "      <th>19</th>\n",
       "      <td>Poor</td>\n",
       "      <td>PG</td>\n",
       "    </tr>\n",
       "    <tr>\n",
       "      <th>12</th>\n",
       "      <td>Poor</td>\n",
       "      <td>School</td>\n",
       "    </tr>\n",
       "    <tr>\n",
       "      <th>30</th>\n",
       "      <td>Average</td>\n",
       "      <td>UG</td>\n",
       "    </tr>\n",
       "    <tr>\n",
       "      <th>42</th>\n",
       "      <td>Good</td>\n",
       "      <td>PG</td>\n",
       "    </tr>\n",
       "    <tr>\n",
       "      <th>11</th>\n",
       "      <td>Good</td>\n",
       "      <td>UG</td>\n",
       "    </tr>\n",
       "    <tr>\n",
       "      <th>40</th>\n",
       "      <td>Good</td>\n",
       "      <td>School</td>\n",
       "    </tr>\n",
       "    <tr>\n",
       "      <th>0</th>\n",
       "      <td>Average</td>\n",
       "      <td>School</td>\n",
       "    </tr>\n",
       "    <tr>\n",
       "      <th>27</th>\n",
       "      <td>Poor</td>\n",
       "      <td>PG</td>\n",
       "    </tr>\n",
       "    <tr>\n",
       "      <th>14</th>\n",
       "      <td>Poor</td>\n",
       "      <td>PG</td>\n",
       "    </tr>\n",
       "    <tr>\n",
       "      <th>21</th>\n",
       "      <td>Average</td>\n",
       "      <td>PG</td>\n",
       "    </tr>\n",
       "    <tr>\n",
       "      <th>31</th>\n",
       "      <td>Poor</td>\n",
       "      <td>School</td>\n",
       "    </tr>\n",
       "    <tr>\n",
       "      <th>16</th>\n",
       "      <td>Poor</td>\n",
       "      <td>UG</td>\n",
       "    </tr>\n",
       "    <tr>\n",
       "      <th>38</th>\n",
       "      <td>Good</td>\n",
       "      <td>School</td>\n",
       "    </tr>\n",
       "    <tr>\n",
       "      <th>48</th>\n",
       "      <td>Good</td>\n",
       "      <td>UG</td>\n",
       "    </tr>\n",
       "    <tr>\n",
       "      <th>49</th>\n",
       "      <td>Good</td>\n",
       "      <td>UG</td>\n",
       "    </tr>\n",
       "    <tr>\n",
       "      <th>13</th>\n",
       "      <td>Average</td>\n",
       "      <td>School</td>\n",
       "    </tr>\n",
       "    <tr>\n",
       "      <th>22</th>\n",
       "      <td>Poor</td>\n",
       "      <td>PG</td>\n",
       "    </tr>\n",
       "    <tr>\n",
       "      <th>45</th>\n",
       "      <td>Poor</td>\n",
       "      <td>PG</td>\n",
       "    </tr>\n",
       "    <tr>\n",
       "      <th>39</th>\n",
       "      <td>Poor</td>\n",
       "      <td>PG</td>\n",
       "    </tr>\n",
       "    <tr>\n",
       "      <th>36</th>\n",
       "      <td>Good</td>\n",
       "      <td>UG</td>\n",
       "    </tr>\n",
       "    <tr>\n",
       "      <th>9</th>\n",
       "      <td>Good</td>\n",
       "      <td>UG</td>\n",
       "    </tr>\n",
       "    <tr>\n",
       "      <th>3</th>\n",
       "      <td>Good</td>\n",
       "      <td>PG</td>\n",
       "    </tr>\n",
       "    <tr>\n",
       "      <th>23</th>\n",
       "      <td>Good</td>\n",
       "      <td>School</td>\n",
       "    </tr>\n",
       "    <tr>\n",
       "      <th>33</th>\n",
       "      <td>Good</td>\n",
       "      <td>PG</td>\n",
       "    </tr>\n",
       "    <tr>\n",
       "      <th>44</th>\n",
       "      <td>Average</td>\n",
       "      <td>UG</td>\n",
       "    </tr>\n",
       "    <tr>\n",
       "      <th>34</th>\n",
       "      <td>Average</td>\n",
       "      <td>School</td>\n",
       "    </tr>\n",
       "    <tr>\n",
       "      <th>46</th>\n",
       "      <td>Poor</td>\n",
       "      <td>PG</td>\n",
       "    </tr>\n",
       "    <tr>\n",
       "      <th>17</th>\n",
       "      <td>Poor</td>\n",
       "      <td>UG</td>\n",
       "    </tr>\n",
       "    <tr>\n",
       "      <th>35</th>\n",
       "      <td>Poor</td>\n",
       "      <td>School</td>\n",
       "    </tr>\n",
       "    <tr>\n",
       "      <th>1</th>\n",
       "      <td>Poor</td>\n",
       "      <td>UG</td>\n",
       "    </tr>\n",
       "    <tr>\n",
       "      <th>47</th>\n",
       "      <td>Good</td>\n",
       "      <td>PG</td>\n",
       "    </tr>\n",
       "    <tr>\n",
       "      <th>32</th>\n",
       "      <td>Average</td>\n",
       "      <td>UG</td>\n",
       "    </tr>\n",
       "    <tr>\n",
       "      <th>4</th>\n",
       "      <td>Average</td>\n",
       "      <td>UG</td>\n",
       "    </tr>\n",
       "    <tr>\n",
       "      <th>24</th>\n",
       "      <td>Average</td>\n",
       "      <td>PG</td>\n",
       "    </tr>\n",
       "    <tr>\n",
       "      <th>2</th>\n",
       "      <td>Good</td>\n",
       "      <td>PG</td>\n",
       "    </tr>\n",
       "    <tr>\n",
       "      <th>28</th>\n",
       "      <td>Poor</td>\n",
       "      <td>School</td>\n",
       "    </tr>\n",
       "    <tr>\n",
       "      <th>8</th>\n",
       "      <td>Average</td>\n",
       "      <td>UG</td>\n",
       "    </tr>\n",
       "    <tr>\n",
       "      <th>6</th>\n",
       "      <td>Good</td>\n",
       "      <td>School</td>\n",
       "    </tr>\n",
       "    <tr>\n",
       "      <th>26</th>\n",
       "      <td>Poor</td>\n",
       "      <td>PG</td>\n",
       "    </tr>\n",
       "    <tr>\n",
       "      <th>43</th>\n",
       "      <td>Poor</td>\n",
       "      <td>PG</td>\n",
       "    </tr>\n",
       "  </tbody>\n",
       "</table>\n",
       "</div>"
      ],
      "text/plain": [
       "     review education\n",
       "19     Poor        PG\n",
       "12     Poor    School\n",
       "30  Average        UG\n",
       "42     Good        PG\n",
       "11     Good        UG\n",
       "40     Good    School\n",
       "0   Average    School\n",
       "27     Poor        PG\n",
       "14     Poor        PG\n",
       "21  Average        PG\n",
       "31     Poor    School\n",
       "16     Poor        UG\n",
       "38     Good    School\n",
       "48     Good        UG\n",
       "49     Good        UG\n",
       "13  Average    School\n",
       "22     Poor        PG\n",
       "45     Poor        PG\n",
       "39     Poor        PG\n",
       "36     Good        UG\n",
       "9      Good        UG\n",
       "3      Good        PG\n",
       "23     Good    School\n",
       "33     Good        PG\n",
       "44  Average        UG\n",
       "34  Average    School\n",
       "46     Poor        PG\n",
       "17     Poor        UG\n",
       "35     Poor    School\n",
       "1      Poor        UG\n",
       "47     Good        PG\n",
       "32  Average        UG\n",
       "4   Average        UG\n",
       "24  Average        PG\n",
       "2      Good        PG\n",
       "28     Poor    School\n",
       "8   Average        UG\n",
       "6      Good    School\n",
       "26     Poor        PG\n",
       "43     Poor        PG"
      ]
     },
     "execution_count": 8,
     "metadata": {},
     "output_type": "execute_result"
    }
   ],
   "source": [
    "X_train"
   ]
  },
  {
   "cell_type": "code",
   "execution_count": 9,
   "id": "71445baf",
   "metadata": {
    "execution": {
     "iopub.execute_input": "2025-08-01T20:04:57.442727Z",
     "iopub.status.busy": "2025-08-01T20:04:57.442422Z",
     "iopub.status.idle": "2025-08-01T20:04:57.446050Z",
     "shell.execute_reply": "2025-08-01T20:04:57.445338Z"
    },
    "papermill": {
     "duration": 0.010163,
     "end_time": "2025-08-01T20:04:57.447399",
     "exception": false,
     "start_time": "2025-08-01T20:04:57.437236",
     "status": "completed"
    },
    "tags": []
   },
   "outputs": [],
   "source": [
    "from sklearn.preprocessing import OrdinalEncoder"
   ]
  },
  {
   "cell_type": "code",
   "execution_count": 10,
   "id": "99ab41ff",
   "metadata": {
    "execution": {
     "iopub.execute_input": "2025-08-01T20:04:57.456899Z",
     "iopub.status.busy": "2025-08-01T20:04:57.456645Z",
     "iopub.status.idle": "2025-08-01T20:04:57.461228Z",
     "shell.execute_reply": "2025-08-01T20:04:57.460317Z"
    },
    "papermill": {
     "duration": 0.010964,
     "end_time": "2025-08-01T20:04:57.462632",
     "exception": false,
     "start_time": "2025-08-01T20:04:57.451668",
     "status": "completed"
    },
    "tags": []
   },
   "outputs": [],
   "source": [
    "oe=OrdinalEncoder(categories=[[\"Poor\",\"Average\",\"Good\"],[\"School\",\"UG\",\"PG\"]])"
   ]
  },
  {
   "cell_type": "code",
   "execution_count": 11,
   "id": "b8304474",
   "metadata": {
    "execution": {
     "iopub.execute_input": "2025-08-01T20:04:57.472678Z",
     "iopub.status.busy": "2025-08-01T20:04:57.471996Z",
     "iopub.status.idle": "2025-08-01T20:04:57.484460Z",
     "shell.execute_reply": "2025-08-01T20:04:57.483590Z"
    },
    "papermill": {
     "duration": 0.018875,
     "end_time": "2025-08-01T20:04:57.485775",
     "exception": false,
     "start_time": "2025-08-01T20:04:57.466900",
     "status": "completed"
    },
    "tags": []
   },
   "outputs": [
    {
     "data": {
      "text/html": [
       "<style>#sk-container-id-1 {color: black;background-color: white;}#sk-container-id-1 pre{padding: 0;}#sk-container-id-1 div.sk-toggleable {background-color: white;}#sk-container-id-1 label.sk-toggleable__label {cursor: pointer;display: block;width: 100%;margin-bottom: 0;padding: 0.3em;box-sizing: border-box;text-align: center;}#sk-container-id-1 label.sk-toggleable__label-arrow:before {content: \"▸\";float: left;margin-right: 0.25em;color: #696969;}#sk-container-id-1 label.sk-toggleable__label-arrow:hover:before {color: black;}#sk-container-id-1 div.sk-estimator:hover label.sk-toggleable__label-arrow:before {color: black;}#sk-container-id-1 div.sk-toggleable__content {max-height: 0;max-width: 0;overflow: hidden;text-align: left;background-color: #f0f8ff;}#sk-container-id-1 div.sk-toggleable__content pre {margin: 0.2em;color: black;border-radius: 0.25em;background-color: #f0f8ff;}#sk-container-id-1 input.sk-toggleable__control:checked~div.sk-toggleable__content {max-height: 200px;max-width: 100%;overflow: auto;}#sk-container-id-1 input.sk-toggleable__control:checked~label.sk-toggleable__label-arrow:before {content: \"▾\";}#sk-container-id-1 div.sk-estimator input.sk-toggleable__control:checked~label.sk-toggleable__label {background-color: #d4ebff;}#sk-container-id-1 div.sk-label input.sk-toggleable__control:checked~label.sk-toggleable__label {background-color: #d4ebff;}#sk-container-id-1 input.sk-hidden--visually {border: 0;clip: rect(1px 1px 1px 1px);clip: rect(1px, 1px, 1px, 1px);height: 1px;margin: -1px;overflow: hidden;padding: 0;position: absolute;width: 1px;}#sk-container-id-1 div.sk-estimator {font-family: monospace;background-color: #f0f8ff;border: 1px dotted black;border-radius: 0.25em;box-sizing: border-box;margin-bottom: 0.5em;}#sk-container-id-1 div.sk-estimator:hover {background-color: #d4ebff;}#sk-container-id-1 div.sk-parallel-item::after {content: \"\";width: 100%;border-bottom: 1px solid gray;flex-grow: 1;}#sk-container-id-1 div.sk-label:hover label.sk-toggleable__label {background-color: #d4ebff;}#sk-container-id-1 div.sk-serial::before {content: \"\";position: absolute;border-left: 1px solid gray;box-sizing: border-box;top: 0;bottom: 0;left: 50%;z-index: 0;}#sk-container-id-1 div.sk-serial {display: flex;flex-direction: column;align-items: center;background-color: white;padding-right: 0.2em;padding-left: 0.2em;position: relative;}#sk-container-id-1 div.sk-item {position: relative;z-index: 1;}#sk-container-id-1 div.sk-parallel {display: flex;align-items: stretch;justify-content: center;background-color: white;position: relative;}#sk-container-id-1 div.sk-item::before, #sk-container-id-1 div.sk-parallel-item::before {content: \"\";position: absolute;border-left: 1px solid gray;box-sizing: border-box;top: 0;bottom: 0;left: 50%;z-index: -1;}#sk-container-id-1 div.sk-parallel-item {display: flex;flex-direction: column;z-index: 1;position: relative;background-color: white;}#sk-container-id-1 div.sk-parallel-item:first-child::after {align-self: flex-end;width: 50%;}#sk-container-id-1 div.sk-parallel-item:last-child::after {align-self: flex-start;width: 50%;}#sk-container-id-1 div.sk-parallel-item:only-child::after {width: 0;}#sk-container-id-1 div.sk-dashed-wrapped {border: 1px dashed gray;margin: 0 0.4em 0.5em 0.4em;box-sizing: border-box;padding-bottom: 0.4em;background-color: white;}#sk-container-id-1 div.sk-label label {font-family: monospace;font-weight: bold;display: inline-block;line-height: 1.2em;}#sk-container-id-1 div.sk-label-container {text-align: center;}#sk-container-id-1 div.sk-container {/* jupyter's `normalize.less` sets `[hidden] { display: none; }` but bootstrap.min.css set `[hidden] { display: none !important; }` so we also need the `!important` here to be able to override the default hidden behavior on the sphinx rendered scikit-learn.org. See: https://github.com/scikit-learn/scikit-learn/issues/21755 */display: inline-block !important;position: relative;}#sk-container-id-1 div.sk-text-repr-fallback {display: none;}</style><div id=\"sk-container-id-1\" class=\"sk-top-container\"><div class=\"sk-text-repr-fallback\"><pre>OrdinalEncoder(categories=[[&#x27;Poor&#x27;, &#x27;Average&#x27;, &#x27;Good&#x27;], [&#x27;School&#x27;, &#x27;UG&#x27;, &#x27;PG&#x27;]])</pre><b>In a Jupyter environment, please rerun this cell to show the HTML representation or trust the notebook. <br />On GitHub, the HTML representation is unable to render, please try loading this page with nbviewer.org.</b></div><div class=\"sk-container\" hidden><div class=\"sk-item\"><div class=\"sk-estimator sk-toggleable\"><input class=\"sk-toggleable__control sk-hidden--visually\" id=\"sk-estimator-id-1\" type=\"checkbox\" checked><label for=\"sk-estimator-id-1\" class=\"sk-toggleable__label sk-toggleable__label-arrow\">OrdinalEncoder</label><div class=\"sk-toggleable__content\"><pre>OrdinalEncoder(categories=[[&#x27;Poor&#x27;, &#x27;Average&#x27;, &#x27;Good&#x27;], [&#x27;School&#x27;, &#x27;UG&#x27;, &#x27;PG&#x27;]])</pre></div></div></div></div></div>"
      ],
      "text/plain": [
       "OrdinalEncoder(categories=[['Poor', 'Average', 'Good'], ['School', 'UG', 'PG']])"
      ]
     },
     "execution_count": 11,
     "metadata": {},
     "output_type": "execute_result"
    }
   ],
   "source": [
    "oe.fit(X_train)"
   ]
  },
  {
   "cell_type": "code",
   "execution_count": 12,
   "id": "feedb87b",
   "metadata": {
    "execution": {
     "iopub.execute_input": "2025-08-01T20:04:57.496618Z",
     "iopub.status.busy": "2025-08-01T20:04:57.496313Z",
     "iopub.status.idle": "2025-08-01T20:04:57.502199Z",
     "shell.execute_reply": "2025-08-01T20:04:57.501423Z"
    },
    "papermill": {
     "duration": 0.012736,
     "end_time": "2025-08-01T20:04:57.503563",
     "exception": false,
     "start_time": "2025-08-01T20:04:57.490827",
     "status": "completed"
    },
    "tags": []
   },
   "outputs": [],
   "source": [
    "X_train= oe.transform(X_train)\n",
    "X_test=oe.transform(X_test)"
   ]
  },
  {
   "cell_type": "code",
   "execution_count": 13,
   "id": "0c49efb0",
   "metadata": {
    "execution": {
     "iopub.execute_input": "2025-08-01T20:04:57.513952Z",
     "iopub.status.busy": "2025-08-01T20:04:57.513661Z",
     "iopub.status.idle": "2025-08-01T20:04:57.519950Z",
     "shell.execute_reply": "2025-08-01T20:04:57.519143Z"
    },
    "papermill": {
     "duration": 0.013183,
     "end_time": "2025-08-01T20:04:57.521412",
     "exception": false,
     "start_time": "2025-08-01T20:04:57.508229",
     "status": "completed"
    },
    "tags": []
   },
   "outputs": [
    {
     "data": {
      "text/plain": [
       "array([[0., 2.],\n",
       "       [0., 0.],\n",
       "       [1., 1.],\n",
       "       [2., 2.],\n",
       "       [2., 1.],\n",
       "       [2., 0.],\n",
       "       [1., 0.],\n",
       "       [0., 2.],\n",
       "       [0., 2.],\n",
       "       [1., 2.],\n",
       "       [0., 0.],\n",
       "       [0., 1.],\n",
       "       [2., 0.],\n",
       "       [2., 1.],\n",
       "       [2., 1.],\n",
       "       [1., 0.],\n",
       "       [0., 2.],\n",
       "       [0., 2.],\n",
       "       [0., 2.],\n",
       "       [2., 1.],\n",
       "       [2., 1.],\n",
       "       [2., 2.],\n",
       "       [2., 0.],\n",
       "       [2., 2.],\n",
       "       [1., 1.],\n",
       "       [1., 0.],\n",
       "       [0., 2.],\n",
       "       [0., 1.],\n",
       "       [0., 0.],\n",
       "       [0., 1.],\n",
       "       [2., 2.],\n",
       "       [1., 1.],\n",
       "       [1., 1.],\n",
       "       [1., 2.],\n",
       "       [2., 2.],\n",
       "       [0., 0.],\n",
       "       [1., 1.],\n",
       "       [2., 0.],\n",
       "       [0., 2.],\n",
       "       [0., 2.]])"
      ]
     },
     "execution_count": 13,
     "metadata": {},
     "output_type": "execute_result"
    }
   ],
   "source": [
    "X_train"
   ]
  },
  {
   "cell_type": "code",
   "execution_count": 14,
   "id": "a556a109",
   "metadata": {
    "execution": {
     "iopub.execute_input": "2025-08-01T20:04:57.532161Z",
     "iopub.status.busy": "2025-08-01T20:04:57.531816Z",
     "iopub.status.idle": "2025-08-01T20:04:57.538039Z",
     "shell.execute_reply": "2025-08-01T20:04:57.536968Z"
    },
    "papermill": {
     "duration": 0.013361,
     "end_time": "2025-08-01T20:04:57.539581",
     "exception": false,
     "start_time": "2025-08-01T20:04:57.526220",
     "status": "completed"
    },
    "tags": []
   },
   "outputs": [
    {
     "data": {
      "text/plain": [
       "[array(['Poor', 'Average', 'Good'], dtype=object),\n",
       " array(['School', 'UG', 'PG'], dtype=object)]"
      ]
     },
     "execution_count": 14,
     "metadata": {},
     "output_type": "execute_result"
    }
   ],
   "source": [
    "oe.categories_"
   ]
  },
  {
   "cell_type": "code",
   "execution_count": 15,
   "id": "19ce4938",
   "metadata": {
    "execution": {
     "iopub.execute_input": "2025-08-01T20:04:57.552754Z",
     "iopub.status.busy": "2025-08-01T20:04:57.552455Z",
     "iopub.status.idle": "2025-08-01T20:04:57.556693Z",
     "shell.execute_reply": "2025-08-01T20:04:57.555758Z"
    },
    "papermill": {
     "duration": 0.012231,
     "end_time": "2025-08-01T20:04:57.558277",
     "exception": false,
     "start_time": "2025-08-01T20:04:57.546046",
     "status": "completed"
    },
    "tags": []
   },
   "outputs": [],
   "source": [
    "from sklearn.preprocessing import LabelEncoder"
   ]
  },
  {
   "cell_type": "code",
   "execution_count": 16,
   "id": "1124d6d8",
   "metadata": {
    "execution": {
     "iopub.execute_input": "2025-08-01T20:04:57.569972Z",
     "iopub.status.busy": "2025-08-01T20:04:57.569679Z",
     "iopub.status.idle": "2025-08-01T20:04:57.573849Z",
     "shell.execute_reply": "2025-08-01T20:04:57.573071Z"
    },
    "papermill": {
     "duration": 0.012406,
     "end_time": "2025-08-01T20:04:57.575604",
     "exception": false,
     "start_time": "2025-08-01T20:04:57.563198",
     "status": "completed"
    },
    "tags": []
   },
   "outputs": [],
   "source": [
    "le= LabelEncoder()"
   ]
  },
  {
   "cell_type": "code",
   "execution_count": 17,
   "id": "cbf802bf",
   "metadata": {
    "execution": {
     "iopub.execute_input": "2025-08-01T20:04:57.588490Z",
     "iopub.status.busy": "2025-08-01T20:04:57.587663Z",
     "iopub.status.idle": "2025-08-01T20:04:57.594861Z",
     "shell.execute_reply": "2025-08-01T20:04:57.594064Z"
    },
    "papermill": {
     "duration": 0.014621,
     "end_time": "2025-08-01T20:04:57.596267",
     "exception": false,
     "start_time": "2025-08-01T20:04:57.581646",
     "status": "completed"
    },
    "tags": []
   },
   "outputs": [
    {
     "data": {
      "text/html": [
       "<style>#sk-container-id-2 {color: black;background-color: white;}#sk-container-id-2 pre{padding: 0;}#sk-container-id-2 div.sk-toggleable {background-color: white;}#sk-container-id-2 label.sk-toggleable__label {cursor: pointer;display: block;width: 100%;margin-bottom: 0;padding: 0.3em;box-sizing: border-box;text-align: center;}#sk-container-id-2 label.sk-toggleable__label-arrow:before {content: \"▸\";float: left;margin-right: 0.25em;color: #696969;}#sk-container-id-2 label.sk-toggleable__label-arrow:hover:before {color: black;}#sk-container-id-2 div.sk-estimator:hover label.sk-toggleable__label-arrow:before {color: black;}#sk-container-id-2 div.sk-toggleable__content {max-height: 0;max-width: 0;overflow: hidden;text-align: left;background-color: #f0f8ff;}#sk-container-id-2 div.sk-toggleable__content pre {margin: 0.2em;color: black;border-radius: 0.25em;background-color: #f0f8ff;}#sk-container-id-2 input.sk-toggleable__control:checked~div.sk-toggleable__content {max-height: 200px;max-width: 100%;overflow: auto;}#sk-container-id-2 input.sk-toggleable__control:checked~label.sk-toggleable__label-arrow:before {content: \"▾\";}#sk-container-id-2 div.sk-estimator input.sk-toggleable__control:checked~label.sk-toggleable__label {background-color: #d4ebff;}#sk-container-id-2 div.sk-label input.sk-toggleable__control:checked~label.sk-toggleable__label {background-color: #d4ebff;}#sk-container-id-2 input.sk-hidden--visually {border: 0;clip: rect(1px 1px 1px 1px);clip: rect(1px, 1px, 1px, 1px);height: 1px;margin: -1px;overflow: hidden;padding: 0;position: absolute;width: 1px;}#sk-container-id-2 div.sk-estimator {font-family: monospace;background-color: #f0f8ff;border: 1px dotted black;border-radius: 0.25em;box-sizing: border-box;margin-bottom: 0.5em;}#sk-container-id-2 div.sk-estimator:hover {background-color: #d4ebff;}#sk-container-id-2 div.sk-parallel-item::after {content: \"\";width: 100%;border-bottom: 1px solid gray;flex-grow: 1;}#sk-container-id-2 div.sk-label:hover label.sk-toggleable__label {background-color: #d4ebff;}#sk-container-id-2 div.sk-serial::before {content: \"\";position: absolute;border-left: 1px solid gray;box-sizing: border-box;top: 0;bottom: 0;left: 50%;z-index: 0;}#sk-container-id-2 div.sk-serial {display: flex;flex-direction: column;align-items: center;background-color: white;padding-right: 0.2em;padding-left: 0.2em;position: relative;}#sk-container-id-2 div.sk-item {position: relative;z-index: 1;}#sk-container-id-2 div.sk-parallel {display: flex;align-items: stretch;justify-content: center;background-color: white;position: relative;}#sk-container-id-2 div.sk-item::before, #sk-container-id-2 div.sk-parallel-item::before {content: \"\";position: absolute;border-left: 1px solid gray;box-sizing: border-box;top: 0;bottom: 0;left: 50%;z-index: -1;}#sk-container-id-2 div.sk-parallel-item {display: flex;flex-direction: column;z-index: 1;position: relative;background-color: white;}#sk-container-id-2 div.sk-parallel-item:first-child::after {align-self: flex-end;width: 50%;}#sk-container-id-2 div.sk-parallel-item:last-child::after {align-self: flex-start;width: 50%;}#sk-container-id-2 div.sk-parallel-item:only-child::after {width: 0;}#sk-container-id-2 div.sk-dashed-wrapped {border: 1px dashed gray;margin: 0 0.4em 0.5em 0.4em;box-sizing: border-box;padding-bottom: 0.4em;background-color: white;}#sk-container-id-2 div.sk-label label {font-family: monospace;font-weight: bold;display: inline-block;line-height: 1.2em;}#sk-container-id-2 div.sk-label-container {text-align: center;}#sk-container-id-2 div.sk-container {/* jupyter's `normalize.less` sets `[hidden] { display: none; }` but bootstrap.min.css set `[hidden] { display: none !important; }` so we also need the `!important` here to be able to override the default hidden behavior on the sphinx rendered scikit-learn.org. See: https://github.com/scikit-learn/scikit-learn/issues/21755 */display: inline-block !important;position: relative;}#sk-container-id-2 div.sk-text-repr-fallback {display: none;}</style><div id=\"sk-container-id-2\" class=\"sk-top-container\"><div class=\"sk-text-repr-fallback\"><pre>LabelEncoder()</pre><b>In a Jupyter environment, please rerun this cell to show the HTML representation or trust the notebook. <br />On GitHub, the HTML representation is unable to render, please try loading this page with nbviewer.org.</b></div><div class=\"sk-container\" hidden><div class=\"sk-item\"><div class=\"sk-estimator sk-toggleable\"><input class=\"sk-toggleable__control sk-hidden--visually\" id=\"sk-estimator-id-2\" type=\"checkbox\" checked><label for=\"sk-estimator-id-2\" class=\"sk-toggleable__label sk-toggleable__label-arrow\">LabelEncoder</label><div class=\"sk-toggleable__content\"><pre>LabelEncoder()</pre></div></div></div></div></div>"
      ],
      "text/plain": [
       "LabelEncoder()"
      ]
     },
     "execution_count": 17,
     "metadata": {},
     "output_type": "execute_result"
    }
   ],
   "source": [
    "le.fit(y_train)"
   ]
  },
  {
   "cell_type": "code",
   "execution_count": 18,
   "id": "33aca34a",
   "metadata": {
    "execution": {
     "iopub.execute_input": "2025-08-01T20:04:57.607738Z",
     "iopub.status.busy": "2025-08-01T20:04:57.607097Z",
     "iopub.status.idle": "2025-08-01T20:04:57.612289Z",
     "shell.execute_reply": "2025-08-01T20:04:57.611528Z"
    },
    "papermill": {
     "duration": 0.01216,
     "end_time": "2025-08-01T20:04:57.613525",
     "exception": false,
     "start_time": "2025-08-01T20:04:57.601365",
     "status": "completed"
    },
    "tags": []
   },
   "outputs": [
    {
     "data": {
      "text/plain": [
       "array(['No', 'Yes'], dtype=object)"
      ]
     },
     "execution_count": 18,
     "metadata": {},
     "output_type": "execute_result"
    }
   ],
   "source": [
    "le.classes_"
   ]
  },
  {
   "cell_type": "code",
   "execution_count": 19,
   "id": "d3abb4fb",
   "metadata": {
    "execution": {
     "iopub.execute_input": "2025-08-01T20:04:57.624839Z",
     "iopub.status.busy": "2025-08-01T20:04:57.624194Z",
     "iopub.status.idle": "2025-08-01T20:04:57.628801Z",
     "shell.execute_reply": "2025-08-01T20:04:57.628105Z"
    },
    "papermill": {
     "duration": 0.011791,
     "end_time": "2025-08-01T20:04:57.630183",
     "exception": false,
     "start_time": "2025-08-01T20:04:57.618392",
     "status": "completed"
    },
    "tags": []
   },
   "outputs": [],
   "source": [
    "y_train=le.transform(y_train)\n",
    "y_test=le.transform(y_test)"
   ]
  },
  {
   "cell_type": "code",
   "execution_count": 20,
   "id": "65d30448",
   "metadata": {
    "execution": {
     "iopub.execute_input": "2025-08-01T20:04:57.641394Z",
     "iopub.status.busy": "2025-08-01T20:04:57.640645Z",
     "iopub.status.idle": "2025-08-01T20:04:57.645947Z",
     "shell.execute_reply": "2025-08-01T20:04:57.645279Z"
    },
    "papermill": {
     "duration": 0.012218,
     "end_time": "2025-08-01T20:04:57.647328",
     "exception": false,
     "start_time": "2025-08-01T20:04:57.635110",
     "status": "completed"
    },
    "tags": []
   },
   "outputs": [
    {
     "data": {
      "text/plain": [
       "array([1, 0, 0, 1, 1, 0, 0, 0, 1, 0, 1, 1, 0, 1, 0, 0, 1, 1, 0, 1, 1, 0,\n",
       "       0, 1, 0, 0, 0, 1, 1, 0, 1, 1, 0, 1, 0, 0, 0, 0, 0, 0])"
      ]
     },
     "execution_count": 20,
     "metadata": {},
     "output_type": "execute_result"
    }
   ],
   "source": [
    "y_train"
   ]
  }
 ],
 "metadata": {
  "kaggle": {
   "accelerator": "none",
   "dataSources": [
    {
     "datasetId": 7977633,
     "sourceId": 12625895,
     "sourceType": "datasetVersion"
    }
   ],
   "dockerImageVersionId": 31089,
   "isGpuEnabled": false,
   "isInternetEnabled": false,
   "language": "python",
   "sourceType": "notebook"
  },
  "kernelspec": {
   "display_name": "Python 3",
   "language": "python",
   "name": "python3"
  },
  "language_info": {
   "codemirror_mode": {
    "name": "ipython",
    "version": 3
   },
   "file_extension": ".py",
   "mimetype": "text/x-python",
   "name": "python",
   "nbconvert_exporter": "python",
   "pygments_lexer": "ipython3",
   "version": "3.11.13"
  },
  "papermill": {
   "default_parameters": {},
   "duration": 9.325753,
   "end_time": "2025-08-01T20:04:58.271571",
   "environment_variables": {},
   "exception": null,
   "input_path": "__notebook__.ipynb",
   "output_path": "__notebook__.ipynb",
   "parameters": {},
   "start_time": "2025-08-01T20:04:48.945818",
   "version": "2.6.0"
  }
 },
 "nbformat": 4,
 "nbformat_minor": 5
}
